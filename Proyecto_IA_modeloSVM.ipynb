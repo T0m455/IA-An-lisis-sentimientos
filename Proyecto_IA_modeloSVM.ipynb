{
  "nbformat": 4,
  "nbformat_minor": 0,
  "metadata": {
    "colab": {
      "provenance": [],
      "gpuType": "T4"
    },
    "kernelspec": {
      "name": "python3",
      "display_name": "Python 3"
    },
    "language_info": {
      "name": "python"
    },
    "accelerator": "GPU"
  },
  "cells": [
    {
      "cell_type": "code",
      "execution_count": 3,
      "metadata": {
        "colab": {
          "base_uri": "https://localhost:8080/"
        },
        "id": "KJaLjekltz-2",
        "outputId": "4656c15f-e727-425f-ba37-a23fe48dbcde"
      },
      "outputs": [
        {
          "output_type": "stream",
          "name": "stdout",
          "text": [
            "Requirement already satisfied: torch in /usr/local/lib/python3.10/dist-packages (2.0.1+cu118)\n",
            "Requirement already satisfied: torchvision in /usr/local/lib/python3.10/dist-packages (0.15.2+cu118)\n",
            "Requirement already satisfied: filelock in /usr/local/lib/python3.10/dist-packages (from torch) (3.12.2)\n",
            "Requirement already satisfied: typing-extensions in /usr/local/lib/python3.10/dist-packages (from torch) (4.7.1)\n",
            "Requirement already satisfied: sympy in /usr/local/lib/python3.10/dist-packages (from torch) (1.11.1)\n",
            "Requirement already satisfied: networkx in /usr/local/lib/python3.10/dist-packages (from torch) (3.1)\n",
            "Requirement already satisfied: jinja2 in /usr/local/lib/python3.10/dist-packages (from torch) (3.1.2)\n",
            "Requirement already satisfied: triton==2.0.0 in /usr/local/lib/python3.10/dist-packages (from torch) (2.0.0)\n",
            "Requirement already satisfied: cmake in /usr/local/lib/python3.10/dist-packages (from triton==2.0.0->torch) (3.25.2)\n",
            "Requirement already satisfied: lit in /usr/local/lib/python3.10/dist-packages (from triton==2.0.0->torch) (16.0.6)\n",
            "Requirement already satisfied: numpy in /usr/local/lib/python3.10/dist-packages (from torchvision) (1.22.4)\n",
            "Requirement already satisfied: requests in /usr/local/lib/python3.10/dist-packages (from torchvision) (2.27.1)\n",
            "Requirement already satisfied: pillow!=8.3.*,>=5.3.0 in /usr/local/lib/python3.10/dist-packages (from torchvision) (9.4.0)\n",
            "Requirement already satisfied: MarkupSafe>=2.0 in /usr/local/lib/python3.10/dist-packages (from jinja2->torch) (2.1.3)\n",
            "Requirement already satisfied: urllib3<1.27,>=1.21.1 in /usr/local/lib/python3.10/dist-packages (from requests->torchvision) (1.26.16)\n",
            "Requirement already satisfied: certifi>=2017.4.17 in /usr/local/lib/python3.10/dist-packages (from requests->torchvision) (2023.7.22)\n",
            "Requirement already satisfied: charset-normalizer~=2.0.0 in /usr/local/lib/python3.10/dist-packages (from requests->torchvision) (2.0.12)\n",
            "Requirement already satisfied: idna<4,>=2.5 in /usr/local/lib/python3.10/dist-packages (from requests->torchvision) (2.10)\n",
            "Requirement already satisfied: mpmath>=0.19 in /usr/local/lib/python3.10/dist-packages (from sympy->torch) (1.3.0)\n",
            "Requirement already satisfied: googletrans==4.0.0-rc1 in /usr/local/lib/python3.10/dist-packages (4.0.0rc1)\n",
            "Requirement already satisfied: httpx==0.13.3 in /usr/local/lib/python3.10/dist-packages (from googletrans==4.0.0-rc1) (0.13.3)\n",
            "Requirement already satisfied: certifi in /usr/local/lib/python3.10/dist-packages (from httpx==0.13.3->googletrans==4.0.0-rc1) (2023.7.22)\n",
            "Requirement already satisfied: hstspreload in /usr/local/lib/python3.10/dist-packages (from httpx==0.13.3->googletrans==4.0.0-rc1) (2023.1.1)\n",
            "Requirement already satisfied: sniffio in /usr/local/lib/python3.10/dist-packages (from httpx==0.13.3->googletrans==4.0.0-rc1) (1.3.0)\n",
            "Requirement already satisfied: chardet==3.* in /usr/local/lib/python3.10/dist-packages (from httpx==0.13.3->googletrans==4.0.0-rc1) (3.0.4)\n",
            "Requirement already satisfied: idna==2.* in /usr/local/lib/python3.10/dist-packages (from httpx==0.13.3->googletrans==4.0.0-rc1) (2.10)\n",
            "Requirement already satisfied: rfc3986<2,>=1.3 in /usr/local/lib/python3.10/dist-packages (from httpx==0.13.3->googletrans==4.0.0-rc1) (1.5.0)\n",
            "Requirement already satisfied: httpcore==0.9.* in /usr/local/lib/python3.10/dist-packages (from httpx==0.13.3->googletrans==4.0.0-rc1) (0.9.1)\n",
            "Requirement already satisfied: h11<0.10,>=0.8 in /usr/local/lib/python3.10/dist-packages (from httpcore==0.9.*->httpx==0.13.3->googletrans==4.0.0-rc1) (0.9.0)\n",
            "Requirement already satisfied: h2==3.* in /usr/local/lib/python3.10/dist-packages (from httpcore==0.9.*->httpx==0.13.3->googletrans==4.0.0-rc1) (3.2.0)\n",
            "Requirement already satisfied: hyperframe<6,>=5.2.0 in /usr/local/lib/python3.10/dist-packages (from h2==3.*->httpcore==0.9.*->httpx==0.13.3->googletrans==4.0.0-rc1) (5.2.0)\n",
            "Requirement already satisfied: hpack<4,>=3.0 in /usr/local/lib/python3.10/dist-packages (from h2==3.*->httpcore==0.9.*->httpx==0.13.3->googletrans==4.0.0-rc1) (3.0.0)\n"
          ]
        }
      ],
      "source": [
        "import os\n",
        "import random\n",
        "from sklearn.feature_extraction.text import TfidfVectorizer\n",
        "from sklearn.metrics import confusion_matrix\n",
        "from googletrans import Translator\n",
        "from sklearn.svm import SVC\n",
        "import numpy as np\n",
        "from sklearn.feature_extraction.text import CountVectorizer\n",
        "from sklearn.naive_bayes import MultinomialNB\n",
        "from sklearn.metrics import accuracy_score, classification_report\n",
        "import glob\n",
        "from sklearn.feature_extraction.text import TfidfVectorizer\n",
        "import torch\n",
        "import matplotlib.pyplot as plt\n",
        "import seaborn as sns\n",
        "from sklearn.model_selection import train_test_split\n",
        "!pip install torch torchvision\n",
        "!pip install googletrans==4.0.0-rc1"
      ]
    },
    {
      "cell_type": "code",
      "source": [
        "from google.colab import drive\n",
        "drive.mount('/content/drive')"
      ],
      "metadata": {
        "colab": {
          "base_uri": "https://localhost:8080/"
        },
        "id": "qOUyyrGrt2YW",
        "outputId": "5aee3ed1-842e-44cd-c17f-cc8f4aba3bf3"
      },
      "execution_count": 4,
      "outputs": [
        {
          "output_type": "stream",
          "name": "stdout",
          "text": [
            "Drive already mounted at /content/drive; to attempt to forcibly remount, call drive.mount(\"/content/drive\", force_remount=True).\n"
          ]
        }
      ]
    },
    {
      "cell_type": "code",
      "source": [
        "import tarfile\n",
        "\n",
        "# Ruta al archivo tar.gz en Google Drive\n",
        "ruta_archivo = '/content/drive/MyDrive/Inteligencia Artificial/aclImdb_v1.tar.gz'\n",
        "\n",
        "# Ruta donde los archivos seran descomprimidos\n",
        "ruta_extraido = '/content/dataset'\n",
        "\n",
        "# Descomprimir el archivo tar.gz para poder acceder\n",
        "with tarfile.open(ruta_archivo, 'r:gz') as tar:\n",
        "    tar.extractall(ruta_extraido)"
      ],
      "metadata": {
        "id": "tz31umFDSFRp"
      },
      "execution_count": 5,
      "outputs": []
    },
    {
      "cell_type": "code",
      "source": [
        "# Verificar si hay una GPU disponible o en su defecto usar cpu\n",
        "device = torch.device(\"cuda\" if torch.cuda.is_available() else \"cpu\")\n",
        "print(\"Dispositivo seleccionado:\", device)"
      ],
      "metadata": {
        "colab": {
          "base_uri": "https://localhost:8080/"
        },
        "id": "8nK3DeouWS0r",
        "outputId": "e9a0ddc1-8f37-428e-f6c7-123434aadd07"
      },
      "execution_count": 6,
      "outputs": [
        {
          "output_type": "stream",
          "name": "stdout",
          "text": [
            "Dispositivo seleccionado: cuda\n"
          ]
        }
      ]
    },
    {
      "cell_type": "code",
      "source": [
        "# Ruta donde los archivos son descomprimidos\n",
        "ruta_extraido = '/content/dataset'\n",
        "\n",
        "# Leemos las reseñas y etiquetas\n",
        "def read_reviews_and_labels(directory):\n",
        "    reviews = []\n",
        "    labels = []\n",
        "    for sentiment in ['pos', 'neg']:\n",
        "        sentiment_dir = os.path.join(directory, sentiment)\n",
        "        for file in os.listdir(sentiment_dir):\n",
        "            with open(os.path.join(sentiment_dir, file), 'r') as f:\n",
        "                review = f.read()\n",
        "                reviews.append(review)\n",
        "                labels.append(1 if sentiment == 'pos' else 0)\n",
        "    return reviews, labels\n",
        "\n",
        "train_dir = os.path.join(ruta_extraido, 'aclImdb/train')\n",
        "test_dir = os.path.join(ruta_extraido, 'aclImdb/test')\n",
        "\n",
        "# Leemos las reseñas de entrenamiento y prueba junto con sus etiquetas\n",
        "train_reviews, train_labels = read_reviews_and_labels(train_dir)\n",
        "test_reviews, test_labels = read_reviews_and_labels(test_dir)\n",
        "\n",
        "# Preprocesamiento de las reseñas, limpiamos y convertimos a minúsculas\n",
        "import re\n",
        "def preprocess_text(text):\n",
        "    text = text.lower()\n",
        "    text = re.sub(r'<[^>]+>', '', text)       # Eliminar etiquetas HTML\n",
        "    text = re.sub(r'\\S+@\\S+', '', text)       # Eliminar direcciones de correo electrónico\n",
        "    text = re.sub(r'https?://\\S+', '', text)  # Eliminar URLs\n",
        "    text = re.sub(r'\\s+', ' ', text).strip()  # Eliminar espacios en blanco adicionales\n",
        "    return text\n",
        "\n",
        "# Aplicamos el preprocesamiento a las reseñas de entrenamiento y prueba\n",
        "train_reviews = [preprocess_text(review) for review in train_reviews]\n",
        "test_reviews = [preprocess_text(review) for review in test_reviews]\n",
        "\n",
        "# Extraemos características utilizando TF-IDF\n",
        "vectorizer = TfidfVectorizer()\n",
        "X_train = vectorizer.fit_transform(train_reviews)\n",
        "X_test = vectorizer.transform(test_reviews)\n",
        "\n",
        "# Dividimos el conjunto de entrenamiento en entrenamiento y validación\n",
        "X_train, X_val, y_train, y_val = train_test_split(X_train, train_labels, test_size=0.2, random_state=42)\n",
        "\n",
        "# Entrenamos un modelo de clasificación SVM\n",
        "svm_model = SVC(kernel='linear', random_state=42)\n",
        "\n",
        "# Entrenamos el modelo SVM con los datos de entrenamiento\n",
        "svm_model.fit(X_train, y_train)\n",
        "\n",
        "# Evaluamos el rendimiento del modelo SVM en el conjunto de validación\n",
        "y_pred_val = svm_model.predict(X_val)\n",
        "accuracy_val = accuracy_score(y_val, y_pred_val)\n",
        "print(f'Precisión en el conjunto de validación: {accuracy_val*100:.2f}%')\n",
        "\n",
        "# Evaluamos el rendimiento del modelo SVM en el conjunto de prueba\n",
        "y_pred_test = svm_model.predict(X_test)\n",
        "accuracy_test = accuracy_score(test_labels, y_pred_test)\n",
        "print(f'Precisión en el conjunto de prueba: {accuracy_test*100:.2f}%')"
      ],
      "metadata": {
        "colab": {
          "base_uri": "https://localhost:8080/"
        },
        "id": "pi-8VcOThYlf",
        "outputId": "99a25fb2-09ee-498e-bc91-99671f0802ce"
      },
      "execution_count": 7,
      "outputs": [
        {
          "output_type": "stream",
          "name": "stdout",
          "text": [
            "Precisión en el conjunto de validación: 89.16%\n",
            "Precisión en el conjunto de prueba: 87.86%\n"
          ]
        }
      ]
    },
    {
      "cell_type": "code",
      "source": [
        "# Matriz de confusión\n",
        "cm = confusion_matrix(test_labels, y_pred_test)\n",
        "\n",
        "plt.figure(figsize=(6, 6))\n",
        "sns.heatmap(cm, annot=True, fmt='d', cmap='Blues', cbar=False, square=True,\n",
        "            xticklabels=['Negativo', 'Positivo'], yticklabels=['Negativo', 'Positivo'])\n",
        "plt.xlabel('Predicción')\n",
        "plt.ylabel('Etiqueta verdadera')\n",
        "plt.title('Matriz de Confusión')\n",
        "plt.show()"
      ],
      "metadata": {
        "colab": {
          "base_uri": "https://localhost:8080/",
          "height": 564
        },
        "id": "7vk_-SL40O2-",
        "outputId": "b2963a5e-093e-4f7a-d9af-78d59401a4ff"
      },
      "execution_count": 8,
      "outputs": [
        {
          "output_type": "display_data",
          "data": {
            "text/plain": [
              "<Figure size 600x600 with 1 Axes>"
            ],
            "image/png": "[encoded data removed]"
          },
          "metadata": {}
        }
      ]
    },
    {
      "cell_type": "code",
      "source": [
        "# Reporte de clasificación\n",
        "classification_rep = classification_report(test_labels, y_pred_test)\n",
        "print(\"Reporte de Clasificación:\")\n",
        "print(classification_rep)"
      ],
      "metadata": {
        "colab": {
          "base_uri": "https://localhost:8080/"
        },
        "id": "eQFkSkIgoJMR",
        "outputId": "7ee16d44-add5-4cc7-fb25-6e8b650440a8"
      },
      "execution_count": 9,
      "outputs": [
        {
          "output_type": "stream",
          "name": "stdout",
          "text": [
            "Reporte de Clasificación:\n",
            "              precision    recall  f1-score   support\n",
            "\n",
            "           0       0.87      0.89      0.88     12500\n",
            "           1       0.88      0.87      0.88     12500\n",
            "\n",
            "    accuracy                           0.88     25000\n",
            "   macro avg       0.88      0.88      0.88     25000\n",
            "weighted avg       0.88      0.88      0.88     25000\n",
            "\n"
          ]
        }
      ]
    },
    {
      "cell_type": "code",
      "source": [
        "# Obtener un comentario aleatorio, su etiqueta (\"Esta reseña es positiva\", \"Esta reseña es negativa\") y el nombre del archivo\n",
        "def get_random_comment_and_label(directory, labels):\n",
        "    sentiment = random.choice(['pos', 'neg'])\n",
        "    sentiment_dir = os.path.join(directory, sentiment)\n",
        "    file = random.choice(os.listdir(sentiment_dir))\n",
        "    file_path = os.path.join(sentiment_dir, file)\n",
        "\n",
        "    with open(file_path, 'r') as f:\n",
        "        comment = f.read()\n",
        "\n",
        "    label = \"Esta reseña es positiva\" if sentiment == 'pos' else \"Esta reseña es negativa\"\n",
        "    return comment, label, file\n",
        "\n",
        "# Ruta donde se descomprimirán los archivos\n",
        "extracted_path = '/content/dataset'\n",
        "\n",
        "# Traducir un texto al español\n",
        "def translate_to_spanish(text):\n",
        "    translator = Translator()\n",
        "    translated_text = translator.translate(text, src='en', dest='es').text\n",
        "    return translated_text\n",
        "\n",
        "# Leemos las reseñas y etiquetas\n",
        "def read_reviews_and_labels(directory):\n",
        "    pass\n",
        "\n",
        "# Obtenemos un comentario aleatorio del conjunto de prueba y su etiqueta\n",
        "random_comment_test, random_label_test, random_file_test = get_random_comment_and_label(test_dir, test_labels)\n",
        "\n",
        "# Preprocesamos el comentario de la misma manera que se preprocesaron las reseñas de entrenamiento\n",
        "preprocessed_random_comment_test = preprocess_text(random_comment_test)\n",
        "\n",
        "# Traducimos el comentario al español\n",
        "translated_comment_test = translate_to_spanish(preprocessed_random_comment_test)\n",
        "\n",
        "# Transformamos el comentario en un vector TF-IDF utilizando el mismo vectorizador utilizado en el entrenamiento\n",
        "random_comment_vector_test = vectorizer.transform([preprocessed_random_comment_test])\n",
        "\n",
        "# Hacemos la predicción utilizando el modelo SVM entrenado\n",
        "predicted_sentiment_test = svm_model.predict(random_comment_vector_test)\n",
        "\n",
        "# El resultado de la predicción será un valor 0 o 1, donde 0 representa una reseña negativa y 1 representa una reseña positiva\n",
        "if predicted_sentiment_test[0] == 0:\n",
        "    predicted_label_test = \"Esta reseña es negativa\"\n",
        "else:\n",
        "    predicted_label_test = \"Esta reseña es positiva\"\n",
        "\n",
        "# Mostrar el comentario original, su traducción al español, el nombre del archivo del comentario y el resto de la información\n",
        "print(\"Comentario original del conjunto de prueba: \", random_comment_test)\n",
        "print(\"Traducción al español del comentario elegido: \", translated_comment_test)\n",
        "print(\"Nombre del archivo del comentario: \", random_file_test)\n",
        "print(\"Etiqueta original del conjunto de prueba: \", random_label_test)\n",
        "print(\"Predicción del modelo para el conjunto de prueba: \", predicted_label_test)"
      ],
      "metadata": {
        "colab": {
          "base_uri": "https://localhost:8080/"
        },
        "id": "-RQ-Sroc5HM1",
        "outputId": "b17cbdb3-9fc4-4310-89a5-4f0fbd5a24d3"
      },
      "execution_count": 23,
      "outputs": [
        {
          "output_type": "stream",
          "name": "stdout",
          "text": [
            "Comentario original del conjunto de prueba:  The Coen Brothers have truly outdone themselves in this wonderful saga of three escaped convicts. Though it is based on \"The Odyssey,\" the ancient work of Homer, you do not have to have read \"The Odyssey\" to be able to follow the story. The brothers Coen have woven a tapestry of celluloid and aural delights! The soundtrack is intrinsic to the film, indeed it is as though the soundtrack is the product and the film is wrapping paper. Each character is wonderfully exploited and harkens back to the days of old when films were rich with character actors whose very appearance in the film adds richness, texture and authenticity. George Clooney is magnificent as the grease haired Everett Ulysses McGill, a honest con on the run whose pompous linguistics and vocabulary are comical and endearing. O Brother, Where Art Thou is easily the best Coen film to date as well as Clooney's best effort. Clooney is good enough to warrant a best actor nomination as is Tim Blake Nelson's portrayal of the dimwitted friend Delmar, while the film itself is deserving of a Best film nod.\n",
            "Traducción al español del comentario elegido:  Los hermanos Coen realmente se han superado en esta maravillosa saga de tres convictos escapados.Aunque se basa en \"The Odyssey\", The Ancient Work of Homer, no tiene que haber leído \"The Odyssey\" para poder seguir la historia.¡Los hermanos Coen han tejido un tapiz de delicias celuloide y auditivas!La banda sonora es intrínseca para la película, de hecho es como si la banda sonora fuera el producto y la película está envolviendo papel.Cada personaje es maravillosamente explotado y se remonta a los días de antaño cuando las películas eran ricas en actores de personajes cuya aparición en la película agrega riqueza, textura y autenticidad.George Clooney es magnífico ya que el Everett Ulysses McGill de cabello grasa, una estafa honesta en la carrera cuya pomposa lingüística y vocabulario son cómicos y entrañables.Oh hermano, donde Art Thou es fácilmente la mejor película de Coen hasta la fecha, así como el mejor esfuerzo de Clooney.Clooney es lo suficientemente bueno como para garantizar una nominación al mejor actor, al igual que la representación de Tim Blake Nelson del amigo atenuado Delmar, mientras que la película en sí merece un mejor asentimiento de la película.\n",
            "Nombre del archivo del comentario:  4403_10.txt\n",
            "Etiqueta original del conjunto de prueba:  Esta reseña es positiva\n",
            "Predicción del modelo para el conjunto de prueba:  Esta reseña es positiva\n"
          ]
        }
      ]
    }
  ]
}